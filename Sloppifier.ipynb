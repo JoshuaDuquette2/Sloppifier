{
 "cells": [
  {
   "cell_type": "code",
   "execution_count": 11,
   "id": "7b171de9",
   "metadata": {},
   "outputs": [],
   "source": [
    "import nltk\n",
    "\n",
    "lines = \"\"\n",
    "with open(\"speech.txt\", \"r\") as f:\n",
    "    for line in f:\n",
    "        lines += line\n",
    "\n",
    "is_noun = lambda pos: pos[:2] == \"NN\"\n",
    "tokenized = nltk.word_tokenize(lines)\n",
    "nouns = [word for (word, pos) in nltk.pos_tag(tokenized) if is_noun(pos)] \n",
    "\n",
    "line_data = lines.split(\" \")\n",
    "for idx, line in enumerate(line_data):\n",
    "    if line in nouns:\n",
    "        line_data[idx] = \"slop\"\n",
    "\n",
    "with open(\"slop.txt\", \"w\") as f:\n",
    "    for line in line_data:\n",
    "        f.write(line + \" \")"
   ]
  }
 ],
 "metadata": {
  "kernelspec": {
   "display_name": "Python 3",
   "language": "python",
   "name": "python3"
  },
  "language_info": {
   "codemirror_mode": {
    "name": "ipython",
    "version": 3
   },
   "file_extension": ".py",
   "mimetype": "text/x-python",
   "name": "python",
   "nbconvert_exporter": "python",
   "pygments_lexer": "ipython3",
   "version": "3.8.10"
  }
 },
 "nbformat": 4,
 "nbformat_minor": 5
}
